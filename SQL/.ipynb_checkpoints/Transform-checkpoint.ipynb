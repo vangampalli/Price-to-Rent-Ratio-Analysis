{
 "cells": [
  {
   "cell_type": "code",
   "execution_count": 1,
   "id": "a6c4a5ea",
   "metadata": {},
   "outputs": [],
   "source": [
    "import pandas as pd"
   ]
  },
  {
   "cell_type": "code",
   "execution_count": 2,
   "id": "cf86f753",
   "metadata": {},
   "outputs": [],
   "source": [
    "rental_data_metadata = pd.read_csv(\"../Extraction/Resources/rental_data.csv\")\n",
    "rental_data = pd.DataFrame(rental_data_metadata)\n",
    "\n",
    "rand_zip_metadata = pd.read_csv(\"../Extraction/Resources/rand_zip_df.csv\")\n",
    "rand_zip_df = pd.DataFrame(rand_zip_metadata)\n",
    "\n",
    "home_prices_metadata = pd.read_csv(\"../Extraction/Resources/home_prices_df.csv\")\n",
    "home_prices_df = pd.DataFrame(home_prices_metadata)"
   ]
  },
  {
   "cell_type": "code",
   "execution_count": 4,
   "id": "ca9986c0",
   "metadata": {},
   "outputs": [],
   "source": [
    "rental_data.to_csv(\"Resources/rental_data.csv\", index = False, header = True)"
   ]
  },
  {
   "cell_type": "code",
   "execution_count": 3,
   "id": "db1a16a4",
   "metadata": {},
   "outputs": [],
   "source": [
    "rand_zip_df = rand_zip_df.rename(columns = {\"Zip Code\" : \"zipcode\", \"City\" : \"city\", \"County\" : \"county\", \"Population\" : \"population\"})\n",
    "rand_zip_df.to_csv(\"Resources/rand_zip_df.csv\", index = False, header = True)"
   ]
  },
  {
   "cell_type": "code",
   "execution_count": 5,
   "id": "93d9b4ad",
   "metadata": {},
   "outputs": [],
   "source": [
    "home_prices_df = home_prices_df.rename(columns = {\"Zip Code\" : \"zipcode\", \"Median Listing Price\" : \"medianprice\", \"Active Listing Count\" : \"activelistingcount\"})\n",
    "home_prices_df.to_csv(\"Resources/home_prices_df.csv\", index = False, header = True)"
   ]
  },
  {
   "cell_type": "code",
   "execution_count": null,
   "id": "e7937225",
   "metadata": {},
   "outputs": [],
   "source": []
  }
 ],
 "metadata": {
  "kernelspec": {
   "display_name": "Python [conda env:PythonData] *",
   "language": "python",
   "name": "conda-env-PythonData-py"
  },
  "language_info": {
   "codemirror_mode": {
    "name": "ipython",
    "version": 3
   },
   "file_extension": ".py",
   "mimetype": "text/x-python",
   "name": "python",
   "nbconvert_exporter": "python",
   "pygments_lexer": "ipython3",
   "version": "3.8.11"
  }
 },
 "nbformat": 4,
 "nbformat_minor": 5
}
